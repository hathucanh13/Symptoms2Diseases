{
 "cells": [
  {
   "cell_type": "code",
   "execution_count": 1,
   "id": "db191d80-c6c2-40ea-8ad0-fa3d9903fee0",
   "metadata": {},
   "outputs": [],
   "source": [
    "import joblib\n",
    "import pandas as pd\n",
    "import numpy as np\n",
    "# from sentence_transformers import SentenceTransformer\n"
   ]
  },
  {
   "cell_type": "code",
   "execution_count": null,
   "id": "b4422ba2-d22c-4133-8d8b-67d3cd83d0de",
   "metadata": {},
   "outputs": [],
   "source": [
    "df = pd.read_csv('archive/dataset_Diseases_and_Symptoms.csv')"
   ]
  },
  {
   "cell_type": "code",
   "execution_count": 2,
   "id": "02719826-a5c6-4dfb-89ee-8abaa0a5f983",
   "metadata": {},
   "outputs": [],
   "source": [
    "rf = joblib.load('clf-v0.pkl')"
   ]
  }
 ],
 "metadata": {
  "kernelspec": {
   "display_name": "Python 3 (ipykernel)",
   "language": "python",
   "name": "python3"
  },
  "language_info": {
   "codemirror_mode": {
    "name": "ipython",
    "version": 3
   },
   "file_extension": ".py",
   "mimetype": "text/x-python",
   "name": "python",
   "nbconvert_exporter": "python",
   "pygments_lexer": "ipython3",
   "version": "3.13.3"
  }
 },
 "nbformat": 4,
 "nbformat_minor": 5
}
